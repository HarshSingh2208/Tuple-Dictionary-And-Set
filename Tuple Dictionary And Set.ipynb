{
 "cells": [
  {
   "cell_type": "markdown",
   "id": "fc9cb486",
   "metadata": {},
   "source": [
    "Print all the words with Frequency K"
   ]
  },
  {
   "cell_type": "code",
   "execution_count": 5,
   "id": "7777a8e2",
   "metadata": {},
   "outputs": [
    {
     "name": "stdout",
     "output_type": "stream",
     "text": [
      "home\n",
      "cat\n",
      "i\n",
      "am\n",
      "harsh\n",
      "singh\n"
     ]
    }
   ],
   "source": [
    "def PrintAllElementWithFrequencyK(words,k):\n",
    "    d={}\n",
    "    for w in words:\n",
    "        d[w]=d.get(w,0)+1\n",
    "    \n",
    "    for w in d:\n",
    "        if d[w]==k:\n",
    "            print(w)\n",
    "string=\" this is my home this is my cat i am harsh singh\"\n",
    "words=string.split()\n",
    "PrintAllElementWithFrequencyK(words,1)"
   ]
  },
  {
   "cell_type": "markdown",
   "id": "d1181845",
   "metadata": {},
   "source": [
    "Sum Of All The Unique Number"
   ]
  },
  {
   "cell_type": "code",
   "execution_count": 8,
   "id": "80f7dce2",
   "metadata": {},
   "outputs": [
    {
     "name": "stdout",
     "output_type": "stream",
     "text": [
      "15\n"
     ]
    }
   ],
   "source": [
    "def SumOfUniqueElement(list):\n",
    "    s=set()\n",
    "    for ele in list:\n",
    "        s.add(ele)\n",
    "    sum=0\n",
    "    for i in s:\n",
    "        sum=sum+i\n",
    "    return sum\n",
    "\n",
    "list=[1,2,3,4,5,1,2,3,4,5,1,2,3,4,5]\n",
    "x=SumOfUniqueElement(list)\n",
    "print(x)"
   ]
  },
  {
   "cell_type": "markdown",
   "id": "0b929d78",
   "metadata": {},
   "source": [
    "Extract Unique characters"
   ]
  },
  {
   "cell_type": "code",
   "execution_count": 12,
   "id": "f8612347",
   "metadata": {},
   "outputs": [
    {
     "name": "stdout",
     "output_type": "stream",
     "text": [
      "{'c', 'a', 'b', 'e', 'd'}\n"
     ]
    }
   ],
   "source": [
    "#if return as set \n",
    "def ExtractUniqueCh(str):\n",
    "    s=set()\n",
    "    for ele in str:\n",
    "        s.add(ele)\n",
    "    return s\n",
    "\n",
    "string=\"aaaabbbcccdddee\"\n",
    "result=ExtractUniqueCh(string)\n",
    "print(result)"
   ]
  },
  {
   "cell_type": "code",
   "execution_count": 13,
   "id": "768ed029",
   "metadata": {},
   "outputs": [
    {
     "name": "stdout",
     "output_type": "stream",
     "text": [
      "abcde\n"
     ]
    }
   ],
   "source": [
    "#if return as string\n",
    "def ExtractUniqueCh(str):\n",
    "    ans=\"\"\n",
    "    d={}\n",
    "    for ele in str:\n",
    "        if ele not in d:\n",
    "            ans=ans+ele\n",
    "            d[ele]=True\n",
    "            \n",
    "    return ans\n",
    "\n",
    "string=\"aaaabbbcccdddee\"\n",
    "result=ExtractUniqueCh(string)\n",
    "print(result)"
   ]
  },
  {
   "cell_type": "markdown",
   "id": "6f5a0225",
   "metadata": {},
   "source": [
    "Different Names"
   ]
  },
  {
   "cell_type": "code",
   "execution_count": 17,
   "id": "754ef52f",
   "metadata": {},
   "outputs": [
    {
     "name": "stdout",
     "output_type": "stream",
     "text": [
      "this 2\n",
      "is 2\n",
      "my 2\n",
      "home 1\n",
      "cat 1\n",
      "i 1\n",
      "am 1\n",
      "harsh 1\n",
      "singh 1\n"
     ]
    }
   ],
   "source": [
    "def differentNames(str):\n",
    "    d={}\n",
    "    list=str.split()\n",
    "    for ele in list:\n",
    "        d[ele]=d.get(ele,0)+1\n",
    "    for ele in d:\n",
    "        print(ele,d[ele])\n",
    "string=\"this is my home this is my cat i am harsh singh\"\n",
    "differentNames(string)"
   ]
  },
  {
   "cell_type": "markdown",
   "id": "ceb15de8",
   "metadata": {},
   "source": [
    "Maximum Frequency Number"
   ]
  },
  {
   "cell_type": "code",
   "execution_count": 20,
   "id": "36511dc2",
   "metadata": {},
   "outputs": [
    {
     "name": "stdout",
     "output_type": "stream",
     "text": [
      "2\n",
      "3\n",
      "4\n"
     ]
    }
   ],
   "source": [
    "def MaximumFrequencyNumber(str):\n",
    "    d={}\n",
    "    list=str.split()\n",
    "    max=0\n",
    "    for ele in list:\n",
    "        d[ele]=d.get(ele,0)+1\n",
    "        if(max<d[ele]):\n",
    "            max=d[ele]\n",
    "    \n",
    "    for ele in d:\n",
    "        if (d[ele]==max):\n",
    "            print(ele)\n",
    "string=\"1 1 2 3 4 5 6 7 8 6 5 4 3 2 3 4 5 4 3 2 2 2 3 4 5 6 7 6\"\n",
    "result=MaximumFrequencyNumber(string)"
   ]
  },
  {
   "cell_type": "markdown",
   "id": "117fe1c4",
   "metadata": {},
   "source": [
    "First non repeating character"
   ]
  },
  {
   "cell_type": "code",
   "execution_count": 24,
   "id": "a7b5dc4f",
   "metadata": {},
   "outputs": [
    {
     "name": "stdout",
     "output_type": "stream",
     "text": [
      "D\n",
      "h\n"
     ]
    }
   ],
   "source": [
    "def FirstNonRepeatingCh(string):\n",
    "    d={}\n",
    "    for ele in string:\n",
    "        d[ele]=d.get(ele,0)+1\n",
    "    for ele in d:\n",
    "        if(d[ele]==1):\n",
    "            print(ele)\n",
    "            break    \n",
    "string=\"aDcadhc\"\n",
    "string2=\"gdhigHada\"\n",
    "FirstNonRepeatingCh(string)\n",
    "FirstNonRepeatingCh(string2)"
   ]
  }
 ],
 "metadata": {
  "kernelspec": {
   "display_name": "Python 3",
   "language": "python",
   "name": "python3"
  },
  "language_info": {
   "codemirror_mode": {
    "name": "ipython",
    "version": 3
   },
   "file_extension": ".py",
   "mimetype": "text/x-python",
   "name": "python",
   "nbconvert_exporter": "python",
   "pygments_lexer": "ipython3",
   "version": "3.7.7"
  }
 },
 "nbformat": 4,
 "nbformat_minor": 5
}
